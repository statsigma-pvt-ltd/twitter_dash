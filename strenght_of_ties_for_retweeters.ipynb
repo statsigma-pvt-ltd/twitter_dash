{
 "cells": [
  {
   "cell_type": "code",
   "execution_count": 1,
   "metadata": {},
   "outputs": [],
   "source": [
    "import tweepy\n",
    "import re\n",
    "import matplotlib.pyplot as plt\n",
    "%matplotlib inline\n",
    "import pickle\n",
    "import pandas as pd\n",
    "import networkx as nx\n",
    "import community"
   ]
  },
  {
   "cell_type": "code",
   "execution_count": 2,
   "metadata": {},
   "outputs": [],
   "source": [
    "consumer_key = 'GLAoztDURqBu9OMbCWxuspsin'\n",
    "consumer_secret = 'z3FW6l5zdlnZV6zVOVGJPfyH12aODRcU5VhSJCdWvWeFAv8p4O'\n",
    "access_token = '1118074022309183488-qQVBylY6qfUj3ygNKpWdswOPbfw35r'\n",
    "access_token_secret = 'RiwVxQnbtw18MwO5MEx4nr6Ktz5g5YJOKpy2RRgvDDPbj'\n",
    "auth = tweepy.OAuthHandler(consumer_key, consumer_secret)\n",
    "auth.set_access_token(access_token, access_token_secret)\n",
    "api = tweepy.API(auth, wait_on_rate_limit=True, wait_on_rate_limit_notify=True, compression=True)"
   ]
  },
  {
   "cell_type": "code",
   "execution_count": 3,
   "metadata": {},
   "outputs": [],
   "source": [
    "def nodes_edges_graph(input1):\n",
    "    global i\n",
    "    consumer_key = 'GLAoztDURqBu9OMbCWxuspsin'\n",
    "    consumer_secret = 'z3FW6l5zdlnZV6zVOVGJPfyH12aODRcU5VhSJCdWvWeFAv8p4O'\n",
    "    access_token = '1118074022309183488-qQVBylY6qfUj3ygNKpWdswOPbfw35r'\n",
    "    access_token_secret = 'RiwVxQnbtw18MwO5MEx4nr6Ktz5g5YJOKpy2RRgvDDPbj'\n",
    "    auth = tweepy.OAuthHandler(consumer_key, consumer_secret)\n",
    "    auth.set_access_token(access_token, access_token_secret)\n",
    "    api = tweepy.API(auth, wait_on_rate_limit=True, wait_on_rate_limit_notify=True, compression=True)\n",
    "    user_node=[]\n",
    "    friend_node=[]\n",
    "    main_person=input1\n",
    "    user = api.get_user(main_person)\n",
    "    main_person_id=user.id\n",
    "    no_of_hops=3\n",
    "    # no_of_hops=no_of_h\n",
    "    try:\n",
    "        ids1=[]\n",
    "        for items in tweepy.Cursor(api.friends_ids, screen_name=main_person).items(2):\n",
    "            user_node.append(main_person_id)\n",
    "            friend_node.append(items)\n",
    "            ids1.append(items)\n",
    "        #print(ids1)\n",
    "        try:\n",
    "            ids_old_hops=[]\n",
    "            id_hops=[]\n",
    "            for hops in range(no_of_hops):\n",
    "                if hops==0:\n",
    "                    id_hops=ids1\n",
    "                else:\n",
    "                    id_hops=ids_old_hops\n",
    "                ids_old_hops=[]\n",
    "                def carbike(i):\n",
    "                    for items in tweepy.Cursor(api.friends_ids,user_id=id_hops[i]).items(2):\n",
    "                        user_node.append(id_hops[i])\n",
    "                        friend_node.append(items)\n",
    "                        ids_old_hops.append(items)\n",
    "                #print(id_old_hops)\n",
    "                print(hops)\n",
    "                for i in range(len(id_hops)):\n",
    "                    carbike(i)\n",
    "        except tweepy.TweepError as e:\n",
    "                if str(e)=='Not authorized.':\n",
    "                    #print('akhil')\n",
    "                    i=i+1\n",
    "                    carbike(i)\n",
    "        user_node1=[]\n",
    "        friend_node1=[]\n",
    "        for ik in user_node:\n",
    "                user = api.get_user(ik)\n",
    "                user_node1.append(user.screen_name)\n",
    "        for ik in friend_node:\n",
    "                user = api.get_user(ik)\n",
    "                friend_node1.append(user.screen_name)\n",
    "    except tweepy.TweepError as e:\n",
    "        if str(e)=='Not authorized.':\n",
    "            print('the main person is protected')\n",
    "    return(user_node,user_node1,friend_node,friend_node1)"
   ]
  },
  {
   "cell_type": "code",
   "execution_count": null,
   "metadata": {},
   "outputs": [],
   "source": [
    "node=[]\n",
    "node_name=[]\n",
    "frnd=[]\n",
    "frnd_name=[]\n",
    "node,node_name,frnd,frnd_name=nodes_edges_graph('akhil74723087')"
   ]
  },
  {
   "cell_type": "code",
   "execution_count": null,
   "metadata": {},
   "outputs": [],
   "source": [
    "friend_ship=[]\n",
    "for i in range(len(node)):\n",
    "    status1 = api.show_friendship(node[i],node_name[i],frnd[i],frnd_name[i])\n",
    "    if(status1[0].following==status1[1].following==True):\n",
    "        friend_ship.append(2)\n",
    "    elif((status1[0].following==True)||(status1[1].following==True):\n",
    "        friend_ship.append(1)\n",
    "    else:\n",
    "         friend_ship.append(0)\n",
    "         \n",
    "    "
   ]
  },
  {
   "cell_type": "code",
   "execution_count": null,
   "metadata": {},
   "outputs": [],
   "source": [
    "retweet_ship=[]\n",
    "for i in range(len(node)):\n",
    "    zx=0\n",
    "    for fz in range(len(api.user_timeline(node[i]))):\n",
    "        stuff=api.user_timeline(135152364)[fz]\n",
    "        k=stuff.id\n",
    "        for page in tweepy.Cursor(api.retweeters,k).page(10):\n",
    "            for duke in range(len(page)):\n",
    "                if(frnd[i]==page[duke]):\n",
    "                    zx=zx+3\n",
    "    retweet_ship.append(zx)\n",
    "\n",
    "                \n",
    "        \n",
    "        "
   ]
  },
  {
   "cell_type": "code",
   "execution_count": null,
   "metadata": {},
   "outputs": [],
   "source": [
    "weight_node=[]\n",
    "for i in range(len(node)):\n",
    "    w=friend_ship[i]+retweet_ship[i]\n",
    "    weight_node.append(0)"
   ]
  },
  {
   "cell_type": "code",
   "execution_count": 26,
   "metadata": {},
   "outputs": [],
   "source": [
    "status1 = api.show_friendship(135152364,'raonageshwar80',118074022309183488,'akhil74723087')"
   ]
  },
  {
   "cell_type": "code",
   "execution_count": 27,
   "metadata": {},
   "outputs": [
    {
     "name": "stdout",
     "output_type": "stream",
     "text": [
      "False False\n"
     ]
    }
   ],
   "source": [
    "print(status1[0].following, status1[1].following)"
   ]
  },
  {
   "cell_type": "code",
   "execution_count": null,
   "metadata": {},
   "outputs": [],
   "source": []
  },
  {
   "cell_type": "code",
   "execution_count": null,
   "metadata": {},
   "outputs": [],
   "source": []
  },
  {
   "cell_type": "code",
   "execution_count": null,
   "metadata": {},
   "outputs": [],
   "source": []
  }
 ],
 "metadata": {
  "kernelspec": {
   "display_name": "Python 3",
   "language": "python",
   "name": "python3"
  },
  "language_info": {
   "codemirror_mode": {
    "name": "ipython",
    "version": 3
   },
   "file_extension": ".py",
   "mimetype": "text/x-python",
   "name": "python",
   "nbconvert_exporter": "python",
   "pygments_lexer": "ipython3",
   "version": "3.6.6"
  }
 },
 "nbformat": 4,
 "nbformat_minor": 2
}
